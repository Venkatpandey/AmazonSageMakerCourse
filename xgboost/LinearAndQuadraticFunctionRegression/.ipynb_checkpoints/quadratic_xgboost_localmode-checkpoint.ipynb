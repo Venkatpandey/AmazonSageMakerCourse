{
 "cells": [
  {
   "cell_type": "markdown",
   "metadata": {},
   "source": [
    "<h2>Quadratic Regression Dataset - Linear Regression vs XGBoost</h2>\n",
    "\n",
    "Model is trained with XGBoost installed in notebook instance\n",
    "\n",
    "In the later examples, we will train using SageMaker's XGBoost algorithm.\n",
    "\n",
    "Training on SageMaker takes several minutes (even for simple dataset).  \n",
    "\n",
    "If algorithm is supported on Python, we will try them locally on notebook instance\n",
    "\n",
    "This allows us to quickly learn an algorithm, understand tuning options and then finally train on SageMaker Cloud\n",
    "\n",
    "In this exercise, let's compare XGBoost and Linear Regression for Quadratic regression dataset"
   ]
  },
  {
   "cell_type": "code",
   "execution_count": 1,
   "metadata": {},
   "outputs": [
    {
     "name": "stdout",
     "output_type": "stream",
     "text": [
      "Requirement already satisfied: xgboost==1.2 in /home/ec2-user/anaconda3/envs/python3/lib/python3.6/site-packages (1.2.0)\r\n",
      "Requirement already satisfied: scipy in /home/ec2-user/anaconda3/envs/python3/lib/python3.6/site-packages (from xgboost==1.2) (1.5.3)\r\n",
      "Requirement already satisfied: numpy in /home/ec2-user/anaconda3/envs/python3/lib/python3.6/site-packages (from xgboost==1.2) (1.19.5)\r\n"
     ]
    }
   ],
   "source": [
    "# Install xgboost in notebook instance.\n",
    "#### Command to install xgboost\n",
    "!pip install xgboost==1.2"
   ]
  },
  {
   "cell_type": "code",
   "execution_count": 2,
   "metadata": {},
   "outputs": [],
   "source": [
    "import sys\n",
    "import numpy as np\n",
    "import pandas as pd\n",
    "import matplotlib.pyplot as plt\n",
    "from sklearn.metrics import mean_squared_error, mean_absolute_error\n",
    "\n",
    "\n",
    "# XGBoost \n",
    "import xgboost as xgb\n",
    "# Linear Regression\n",
    "from sklearn.linear_model import LinearRegression"
   ]
  },
  {
   "cell_type": "code",
   "execution_count": 3,
   "metadata": {},
   "outputs": [],
   "source": [
    "df = pd.read_csv('quadratic_all.csv')"
   ]
  },
  {
   "cell_type": "code",
   "execution_count": 4,
   "metadata": {},
   "outputs": [
    {
     "data": {
      "text/html": [
       "<div>\n",
       "<style scoped>\n",
       "    .dataframe tbody tr th:only-of-type {\n",
       "        vertical-align: middle;\n",
       "    }\n",
       "\n",
       "    .dataframe tbody tr th {\n",
       "        vertical-align: top;\n",
       "    }\n",
       "\n",
       "    .dataframe thead th {\n",
       "        text-align: right;\n",
       "    }\n",
       "</style>\n",
       "<table border=\"1\" class=\"dataframe\">\n",
       "  <thead>\n",
       "    <tr style=\"text-align: right;\">\n",
       "      <th></th>\n",
       "      <th>x</th>\n",
       "      <th>y</th>\n",
       "    </tr>\n",
       "  </thead>\n",
       "  <tbody>\n",
       "    <tr>\n",
       "      <th>0</th>\n",
       "      <td>-20.0</td>\n",
       "      <td>2473.236825</td>\n",
       "    </tr>\n",
       "    <tr>\n",
       "      <th>1</th>\n",
       "      <td>-19.8</td>\n",
       "      <td>2405.673895</td>\n",
       "    </tr>\n",
       "    <tr>\n",
       "      <th>2</th>\n",
       "      <td>-19.6</td>\n",
       "      <td>2444.523136</td>\n",
       "    </tr>\n",
       "    <tr>\n",
       "      <th>3</th>\n",
       "      <td>-19.4</td>\n",
       "      <td>2320.437236</td>\n",
       "    </tr>\n",
       "    <tr>\n",
       "      <th>4</th>\n",
       "      <td>-19.2</td>\n",
       "      <td>2288.088295</td>\n",
       "    </tr>\n",
       "  </tbody>\n",
       "</table>\n",
       "</div>"
      ],
      "text/plain": [
       "      x            y\n",
       "0 -20.0  2473.236825\n",
       "1 -19.8  2405.673895\n",
       "2 -19.6  2444.523136\n",
       "3 -19.4  2320.437236\n",
       "4 -19.2  2288.088295"
      ]
     },
     "execution_count": 4,
     "metadata": {},
     "output_type": "execute_result"
    }
   ],
   "source": [
    "df.head()"
   ]
  },
  {
   "cell_type": "code",
   "execution_count": 5,
   "metadata": {},
   "outputs": [
    {
     "data": {
      "image/png": "[encoded data removed]",
      "text/plain": [
       "<Figure size 432x288 with 1 Axes>"
      ]
     },
     "metadata": {
      "needs_background": "light"
     },
     "output_type": "display_data"
    }
   ],
   "source": [
    "plt.plot(df.x,df.y,label='Target')\n",
    "plt.grid(True)\n",
    "plt.xlabel('Input Feature')\n",
    "plt.ylabel('Target')\n",
    "plt.legend()\n",
    "plt.title('Quadratic Regression Dataset')\n",
    "plt.show()"
   ]
  },
  {
   "cell_type": "code",
   "execution_count": 6,
   "metadata": {},
   "outputs": [],
   "source": [
    "train_file = 'quadratic_train.csv'\n",
    "validation_file = 'quadratic_validation.csv'\n",
    "\n",
    "# Specify the column names as the file does not have column header\n",
    "df_train = pd.read_csv(train_file,names=['y','x'])\n",
    "df_validation = pd.read_csv(validation_file,names=['y','x'])"
   ]
  },
  {
   "cell_type": "code",
   "execution_count": 7,
   "metadata": {},
   "outputs": [
    {
     "data": {
      "text/html": [
       "<div>\n",
       "<style scoped>\n",
       "    .dataframe tbody tr th:only-of-type {\n",
       "        vertical-align: middle;\n",
       "    }\n",
       "\n",
       "    .dataframe tbody tr th {\n",
       "        vertical-align: top;\n",
       "    }\n",
       "\n",
       "    .dataframe thead th {\n",
       "        text-align: right;\n",
       "    }\n",
       "</style>\n",
       "<table border=\"1\" class=\"dataframe\">\n",
       "  <thead>\n",
       "    <tr style=\"text-align: right;\">\n",
       "      <th></th>\n",
       "      <th>y</th>\n",
       "      <th>x</th>\n",
       "    </tr>\n",
       "  </thead>\n",
       "  <tbody>\n",
       "    <tr>\n",
       "      <th>0</th>\n",
       "      <td>343.968005</td>\n",
       "      <td>10.8</td>\n",
       "    </tr>\n",
       "    <tr>\n",
       "      <th>1</th>\n",
       "      <td>1585.894405</td>\n",
       "      <td>-15.8</td>\n",
       "    </tr>\n",
       "    <tr>\n",
       "      <th>2</th>\n",
       "      <td>1497.303317</td>\n",
       "      <td>19.6</td>\n",
       "    </tr>\n",
       "    <tr>\n",
       "      <th>3</th>\n",
       "      <td>769.909912</td>\n",
       "      <td>-10.4</td>\n",
       "    </tr>\n",
       "    <tr>\n",
       "      <th>4</th>\n",
       "      <td>1173.230755</td>\n",
       "      <td>-13.2</td>\n",
       "    </tr>\n",
       "  </tbody>\n",
       "</table>\n",
       "</div>"
      ],
      "text/plain": [
       "             y     x\n",
       "0   343.968005  10.8\n",
       "1  1585.894405 -15.8\n",
       "2  1497.303317  19.6\n",
       "3   769.909912 -10.4\n",
       "4  1173.230755 -13.2"
      ]
     },
     "execution_count": 7,
     "metadata": {},
     "output_type": "execute_result"
    }
   ],
   "source": [
    "df_train.head()"
   ]
  },
  {
   "cell_type": "code",
   "execution_count": 8,
   "metadata": {},
   "outputs": [
    {
     "data": {
      "text/html": [
       "<div>\n",
       "<style scoped>\n",
       "    .dataframe tbody tr th:only-of-type {\n",
       "        vertical-align: middle;\n",
       "    }\n",
       "\n",
       "    .dataframe tbody tr th {\n",
       "        vertical-align: top;\n",
       "    }\n",
       "\n",
       "    .dataframe thead th {\n",
       "        text-align: right;\n",
       "    }\n",
       "</style>\n",
       "<table border=\"1\" class=\"dataframe\">\n",
       "  <thead>\n",
       "    <tr style=\"text-align: right;\">\n",
       "      <th></th>\n",
       "      <th>y</th>\n",
       "      <th>x</th>\n",
       "    </tr>\n",
       "  </thead>\n",
       "  <tbody>\n",
       "    <tr>\n",
       "      <th>0</th>\n",
       "      <td>1824.856344</td>\n",
       "      <td>-17.2</td>\n",
       "    </tr>\n",
       "    <tr>\n",
       "      <th>1</th>\n",
       "      <td>16.997917</td>\n",
       "      <td>-1.2</td>\n",
       "    </tr>\n",
       "    <tr>\n",
       "      <th>2</th>\n",
       "      <td>1832.141730</td>\n",
       "      <td>-16.8</td>\n",
       "    </tr>\n",
       "    <tr>\n",
       "      <th>3</th>\n",
       "      <td>1395.206684</td>\n",
       "      <td>19.0</td>\n",
       "    </tr>\n",
       "    <tr>\n",
       "      <th>4</th>\n",
       "      <td>145.840543</td>\n",
       "      <td>-3.0</td>\n",
       "    </tr>\n",
       "  </tbody>\n",
       "</table>\n",
       "</div>"
      ],
      "text/plain": [
       "             y     x\n",
       "0  1824.856344 -17.2\n",
       "1    16.997917  -1.2\n",
       "2  1832.141730 -16.8\n",
       "3  1395.206684  19.0\n",
       "4   145.840543  -3.0"
      ]
     },
     "execution_count": 8,
     "metadata": {},
     "output_type": "execute_result"
    }
   ],
   "source": [
    "df_validation.head()"
   ]
  },
  {
   "cell_type": "code",
   "execution_count": 9,
   "metadata": {},
   "outputs": [
    {
     "data": {
      "image/png": "[encoded data removed]",
      "text/plain": [
       "<Figure size 432x288 with 1 Axes>"
      ]
     },
     "metadata": {
      "needs_background": "light"
     },
     "output_type": "display_data"
    }
   ],
   "source": [
    "plt.scatter(df_train.x,df_train.y,label='Training',marker='.')\n",
    "plt.scatter(df_validation.x,df_validation.y,label='Validation',marker='.')\n",
    "plt.grid(True)\n",
    "plt.xlabel('Input Feature')\n",
    "plt.ylabel('Target')\n",
    "plt.title('Quadratic Regression Dataset')\n",
    "plt.legend()\n",
    "plt.show()"
   ]
  },
  {
   "cell_type": "code",
   "execution_count": 10,
   "metadata": {},
   "outputs": [],
   "source": [
    "X_train = df_train.iloc[:,1:] # Features: 1st column onwards \n",
    "y_train = df_train.iloc[:,0].ravel() # Target: 0th column\n",
    "\n",
    "X_validation = df_validation.iloc[:,1:]\n",
    "y_validation = df_validation.iloc[:,0].ravel()"
   ]
  },
  {
   "cell_type": "code",
   "execution_count": 11,
   "metadata": {},
   "outputs": [],
   "source": [
    "# Create an instance of XGBoost Regressor\n",
    "# XGBoost Training Parameter Reference: \n",
    "#   https://github.com/dmlc/xgboost/blob/master/doc/parameter.md\n",
    "regressor = xgb.XGBRegressor()"
   ]
  },
  {
   "cell_type": "code",
   "execution_count": 12,
   "metadata": {},
   "outputs": [
    {
     "data": {
      "text/plain": [
       "XGBRegressor(base_score=None, booster=None, colsample_bylevel=None,\n",
       "             colsample_bynode=None, colsample_bytree=None, gamma=None,\n",
       "             gpu_id=None, importance_type='gain', interaction_constraints=None,\n",
       "             learning_rate=None, max_delta_step=None, max_depth=None,\n",
       "             min_child_weight=None, missing=nan, monotone_constraints=None,\n",
       "             n_estimators=100, n_jobs=None, num_parallel_tree=None,\n",
       "             random_state=None, reg_alpha=None, reg_lambda=None,\n",
       "             scale_pos_weight=None, subsample=None, tree_method=None,\n",
       "             validate_parameters=None, verbosity=None)"
      ]
     },
     "execution_count": 12,
     "metadata": {},
     "output_type": "execute_result"
    }
   ],
   "source": [
    "regressor"
   ]
  },
  {
   "cell_type": "code",
   "execution_count": 13,
   "metadata": {},
   "outputs": [
    {
     "name": "stdout",
     "output_type": "stream",
     "text": [
      "[0]\tvalidation_0-rmse:680.75659\tvalidation_1-rmse:759.28180\n",
      "[1]\tvalidation_0-rmse:496.64975\tvalidation_1-rmse:558.76227\n",
      "[2]\tvalidation_0-rmse:364.40192\tvalidation_1-rmse:416.74503\n",
      "[3]\tvalidation_0-rmse:268.61850\tvalidation_1-rmse:314.03879\n",
      "[4]\tvalidation_0-rmse:198.73167\tvalidation_1-rmse:239.39934\n",
      "[5]\tvalidation_0-rmse:148.15569\tvalidation_1-rmse:184.01250\n",
      "[6]\tvalidation_0-rmse:111.41605\tvalidation_1-rmse:143.64578\n",
      "[7]\tvalidation_0-rmse:85.12824\tvalidation_1-rmse:114.83409\n",
      "[8]\tvalidation_0-rmse:66.19106\tvalidation_1-rmse:95.02868\n",
      "[9]\tvalidation_0-rmse:52.48117\tvalidation_1-rmse:80.46168\n",
      "[10]\tvalidation_0-rmse:42.81858\tvalidation_1-rmse:70.20042\n",
      "[11]\tvalidation_0-rmse:35.82252\tvalidation_1-rmse:62.60704\n",
      "[12]\tvalidation_0-rmse:30.72047\tvalidation_1-rmse:57.81083\n",
      "[13]\tvalidation_0-rmse:27.04723\tvalidation_1-rmse:53.74323\n",
      "[14]\tvalidation_0-rmse:24.51246\tvalidation_1-rmse:50.83495\n",
      "[15]\tvalidation_0-rmse:22.54053\tvalidation_1-rmse:48.28755\n",
      "[16]\tvalidation_0-rmse:20.98229\tvalidation_1-rmse:46.41356\n",
      "[17]\tvalidation_0-rmse:19.73797\tvalidation_1-rmse:45.18608\n",
      "[18]\tvalidation_0-rmse:18.49679\tvalidation_1-rmse:44.70341\n",
      "[19]\tvalidation_0-rmse:17.69560\tvalidation_1-rmse:44.00994\n",
      "[20]\tvalidation_0-rmse:17.09966\tvalidation_1-rmse:43.28699\n",
      "[21]\tvalidation_0-rmse:16.64862\tvalidation_1-rmse:42.85340\n",
      "[22]\tvalidation_0-rmse:15.70011\tvalidation_1-rmse:43.02807\n",
      "[23]\tvalidation_0-rmse:15.38755\tvalidation_1-rmse:42.75773\n",
      "[24]\tvalidation_0-rmse:14.72696\tvalidation_1-rmse:42.90691\n",
      "[25]\tvalidation_0-rmse:14.32629\tvalidation_1-rmse:43.10545\n",
      "[26]\tvalidation_0-rmse:14.14502\tvalidation_1-rmse:42.99868\n",
      "[27]\tvalidation_0-rmse:13.84486\tvalidation_1-rmse:43.31779\n",
      "[28]\tvalidation_0-rmse:13.70856\tvalidation_1-rmse:43.14159\n",
      "[29]\tvalidation_0-rmse:13.57877\tvalidation_1-rmse:43.00242\n",
      "[30]\tvalidation_0-rmse:13.10335\tvalidation_1-rmse:43.16242\n",
      "[31]\tvalidation_0-rmse:12.95686\tvalidation_1-rmse:43.01017\n",
      "[32]\tvalidation_0-rmse:12.61189\tvalidation_1-rmse:43.07995\n",
      "[33]\tvalidation_0-rmse:12.26656\tvalidation_1-rmse:43.08500\n",
      "[34]\tvalidation_0-rmse:11.96268\tvalidation_1-rmse:43.09133\n",
      "[35]\tvalidation_0-rmse:11.69330\tvalidation_1-rmse:42.94814\n",
      "[36]\tvalidation_0-rmse:11.36168\tvalidation_1-rmse:42.99236\n",
      "[37]\tvalidation_0-rmse:10.91526\tvalidation_1-rmse:43.30779\n",
      "[38]\tvalidation_0-rmse:10.66809\tvalidation_1-rmse:43.35736\n",
      "[39]\tvalidation_0-rmse:10.53745\tvalidation_1-rmse:43.39308\n",
      "[40]\tvalidation_0-rmse:10.17034\tvalidation_1-rmse:43.30790\n",
      "[41]\tvalidation_0-rmse:9.60657\tvalidation_1-rmse:43.47401\n",
      "[42]\tvalidation_0-rmse:9.40088\tvalidation_1-rmse:43.53023\n",
      "[43]\tvalidation_0-rmse:9.05288\tvalidation_1-rmse:43.59005\n",
      "[44]\tvalidation_0-rmse:8.59283\tvalidation_1-rmse:43.78224\n",
      "[45]\tvalidation_0-rmse:8.36865\tvalidation_1-rmse:43.82842\n",
      "[46]\tvalidation_0-rmse:8.21436\tvalidation_1-rmse:43.77689\n",
      "[47]\tvalidation_0-rmse:8.02011\tvalidation_1-rmse:43.85358\n",
      "[48]\tvalidation_0-rmse:7.60991\tvalidation_1-rmse:43.99822\n",
      "[49]\tvalidation_0-rmse:7.31762\tvalidation_1-rmse:44.06958\n",
      "[50]\tvalidation_0-rmse:7.21769\tvalidation_1-rmse:44.10243\n",
      "[51]\tvalidation_0-rmse:6.91921\tvalidation_1-rmse:44.25389\n",
      "[52]\tvalidation_0-rmse:6.68621\tvalidation_1-rmse:44.30911\n",
      "[53]\tvalidation_0-rmse:6.49543\tvalidation_1-rmse:44.32807\n",
      "[54]\tvalidation_0-rmse:6.40538\tvalidation_1-rmse:44.35911\n",
      "[55]\tvalidation_0-rmse:6.19920\tvalidation_1-rmse:44.36742\n",
      "[56]\tvalidation_0-rmse:6.06104\tvalidation_1-rmse:44.43427\n",
      "[57]\tvalidation_0-rmse:5.86804\tvalidation_1-rmse:44.38549\n",
      "[58]\tvalidation_0-rmse:5.62227\tvalidation_1-rmse:44.52854\n",
      "[59]\tvalidation_0-rmse:5.56722\tvalidation_1-rmse:44.48940\n",
      "[60]\tvalidation_0-rmse:5.50182\tvalidation_1-rmse:44.46332\n",
      "[61]\tvalidation_0-rmse:5.45560\tvalidation_1-rmse:44.43529\n",
      "[62]\tvalidation_0-rmse:5.38756\tvalidation_1-rmse:44.41671\n",
      "[63]\tvalidation_0-rmse:5.33709\tvalidation_1-rmse:44.44324\n",
      "[64]\tvalidation_0-rmse:5.21123\tvalidation_1-rmse:44.49044\n",
      "[65]\tvalidation_0-rmse:5.16929\tvalidation_1-rmse:44.50380\n",
      "[66]\tvalidation_0-rmse:4.92579\tvalidation_1-rmse:44.61582\n",
      "[67]\tvalidation_0-rmse:4.76708\tvalidation_1-rmse:44.64404\n",
      "[68]\tvalidation_0-rmse:4.68881\tvalidation_1-rmse:44.68129\n",
      "[69]\tvalidation_0-rmse:4.50568\tvalidation_1-rmse:44.78865\n",
      "[70]\tvalidation_0-rmse:4.47962\tvalidation_1-rmse:44.76699\n",
      "[71]\tvalidation_0-rmse:4.34574\tvalidation_1-rmse:44.85468\n",
      "[72]\tvalidation_0-rmse:4.20597\tvalidation_1-rmse:44.91148\n",
      "[73]\tvalidation_0-rmse:4.14287\tvalidation_1-rmse:44.96600\n",
      "[74]\tvalidation_0-rmse:4.11514\tvalidation_1-rmse:44.95660\n",
      "[75]\tvalidation_0-rmse:3.95120\tvalidation_1-rmse:44.95081\n",
      "[76]\tvalidation_0-rmse:3.82405\tvalidation_1-rmse:44.97570\n",
      "[77]\tvalidation_0-rmse:3.69686\tvalidation_1-rmse:44.97686\n",
      "[78]\tvalidation_0-rmse:3.55601\tvalidation_1-rmse:45.05957\n",
      "[79]\tvalidation_0-rmse:3.45422\tvalidation_1-rmse:45.10154\n",
      "[80]\tvalidation_0-rmse:3.42310\tvalidation_1-rmse:45.11102\n",
      "[81]\tvalidation_0-rmse:3.34021\tvalidation_1-rmse:45.13074\n",
      "[82]\tvalidation_0-rmse:3.23519\tvalidation_1-rmse:45.13293\n",
      "[83]\tvalidation_0-rmse:3.19969\tvalidation_1-rmse:45.14602\n",
      "[84]\tvalidation_0-rmse:3.18501\tvalidation_1-rmse:45.14520\n",
      "[85]\tvalidation_0-rmse:3.10588\tvalidation_1-rmse:45.13691\n",
      "[86]\tvalidation_0-rmse:3.04586\tvalidation_1-rmse:45.10998\n",
      "[87]\tvalidation_0-rmse:2.96672\tvalidation_1-rmse:45.11537\n",
      "[88]\tvalidation_0-rmse:2.90470\tvalidation_1-rmse:45.11700\n",
      "[89]\tvalidation_0-rmse:2.85249\tvalidation_1-rmse:45.13259\n",
      "[90]\tvalidation_0-rmse:2.73530\tvalidation_1-rmse:45.20306\n",
      "[91]\tvalidation_0-rmse:2.65720\tvalidation_1-rmse:45.24548\n",
      "[92]\tvalidation_0-rmse:2.60856\tvalidation_1-rmse:45.23182\n",
      "[93]\tvalidation_0-rmse:2.60290\tvalidation_1-rmse:45.24003\n",
      "[94]\tvalidation_0-rmse:2.52591\tvalidation_1-rmse:45.24688\n",
      "[95]\tvalidation_0-rmse:2.45369\tvalidation_1-rmse:45.29898\n",
      "[96]\tvalidation_0-rmse:2.40118\tvalidation_1-rmse:45.32123\n",
      "[97]\tvalidation_0-rmse:2.31446\tvalidation_1-rmse:45.37927\n",
      "[98]\tvalidation_0-rmse:2.29170\tvalidation_1-rmse:45.39479\n",
      "[99]\tvalidation_0-rmse:2.23361\tvalidation_1-rmse:45.39563\n"
     ]
    },
    {
     "data": {
      "text/plain": [
       "XGBRegressor(base_score=0.5, booster='gbtree', colsample_bylevel=1,\n",
       "             colsample_bynode=1, colsample_bytree=1, gamma=0, gpu_id=-1,\n",
       "             importance_type='gain', interaction_constraints='',\n",
       "             learning_rate=0.300000012, max_delta_step=0, max_depth=6,\n",
       "             min_child_weight=1, missing=nan, monotone_constraints='()',\n",
       "             n_estimators=100, n_jobs=0, num_parallel_tree=1, random_state=0,\n",
       "             reg_alpha=0, reg_lambda=1, scale_pos_weight=1, subsample=1,\n",
       "             tree_method='exact', validate_parameters=1, verbosity=None)"
      ]
     },
     "execution_count": 13,
     "metadata": {},
     "output_type": "execute_result"
    }
   ],
   "source": [
    "regressor.fit(X_train,y_train, eval_set = [(X_train, y_train), (X_validation, y_validation)])"
   ]
  },
  {
   "cell_type": "code",
   "execution_count": 14,
   "metadata": {},
   "outputs": [],
   "source": [
    "eval_result = regressor.evals_result()"
   ]
  },
  {
   "cell_type": "code",
   "execution_count": 15,
   "metadata": {},
   "outputs": [],
   "source": [
    "training_rounds = range(len(eval_result['validation_0']['rmse']))"
   ]
  },
  {
   "cell_type": "code",
   "execution_count": 16,
   "metadata": {},
   "outputs": [
    {
     "data": {
      "image/png": "[encoded data removed]",
      "text/plain": [
       "<Figure size 432x288 with 1 Axes>"
      ]
     },
     "metadata": {
      "needs_background": "light"
     },
     "output_type": "display_data"
    }
   ],
   "source": [
    "plt.scatter(x=training_rounds,y=eval_result['validation_0']['rmse'],label='Training Error')\n",
    "plt.scatter(x=training_rounds,y=eval_result['validation_1']['rmse'],label='Validation Error')\n",
    "plt.grid(True)\n",
    "plt.xlabel('Iteration')\n",
    "plt.ylabel('RMSE')\n",
    "plt.title('Training Vs Validation Error')\n",
    "plt.legend()\n",
    "plt.show()"
   ]
  },
  {
   "cell_type": "code",
   "execution_count": 17,
   "metadata": {},
   "outputs": [
    {
     "data": {
      "image/png": "[encoded data removed]",
      "text/plain": [
       "<Figure size 432x288 with 1 Axes>"
      ]
     },
     "metadata": {
      "needs_background": "light"
     },
     "output_type": "display_data"
    }
   ],
   "source": [
    "xgb.plot_importance(regressor)\n",
    "plt.show()"
   ]
  },
  {
   "cell_type": "markdown",
   "metadata": {},
   "source": [
    "## Validation Dataset Compare Actual and Predicted"
   ]
  },
  {
   "cell_type": "code",
   "execution_count": 18,
   "metadata": {},
   "outputs": [],
   "source": [
    "result = regressor.predict(X_validation)"
   ]
  },
  {
   "cell_type": "code",
   "execution_count": 19,
   "metadata": {},
   "outputs": [
    {
     "data": {
      "text/plain": [
       "array([1815.7225 ,   46.51924, 1815.7225 , 1400.9963 ,  156.46053],\n",
       "      dtype=float32)"
      ]
     },
     "execution_count": 19,
     "metadata": {},
     "output_type": "execute_result"
    }
   ],
   "source": [
    "result[:5]"
   ]
  },
  {
   "cell_type": "code",
   "execution_count": 20,
   "metadata": {},
   "outputs": [
    {
     "data": {
      "image/png": "[encoded data removed]",
      "text/plain": [
       "<Figure size 432x288 with 1 Axes>"
      ]
     },
     "metadata": {
      "needs_background": "light"
     },
     "output_type": "display_data"
    }
   ],
   "source": [
    "plt.title('XGBoost - Validation Dataset')\n",
    "plt.scatter(df_validation.x,df_validation.y,label='actual',marker='.')\n",
    "plt.scatter(df_validation.x,result,label='predicted',marker='.')\n",
    "plt.grid(True)\n",
    "plt.legend()\n",
    "plt.show()"
   ]
  },
  {
   "cell_type": "code",
   "execution_count": 21,
   "metadata": {},
   "outputs": [
    {
     "name": "stdout",
     "output_type": "stream",
     "text": [
      "XGBoost Algorithm Metrics\n",
      " Mean Squared Error: 2060.76\n",
      " Root Mean Square Error: 45.40\n"
     ]
    }
   ],
   "source": [
    "# RMSE Metrics\n",
    "print('XGBoost Algorithm Metrics')\n",
    "mse = mean_squared_error(df_validation.y,result)\n",
    "print(\" Mean Squared Error: {0:.2f}\".format(mse))\n",
    "print(\" Root Mean Square Error: {0:.2f}\".format(mse**.5))"
   ]
  },
  {
   "cell_type": "code",
   "execution_count": 22,
   "metadata": {},
   "outputs": [
    {
     "data": {
      "image/png": "[encoded data removed]",
      "text/plain": [
       "<Figure size 432x288 with 1 Axes>"
      ]
     },
     "metadata": {
      "needs_background": "light"
     },
     "output_type": "display_data"
    }
   ],
   "source": [
    "# Residual\n",
    "# Over prediction and Under Prediction needs to be balanced\n",
    "# Training Data Residuals\n",
    "residuals = df_validation.y - result\n",
    "plt.hist(residuals)\n",
    "plt.grid(True)\n",
    "plt.xlabel('Actual - Predicted')\n",
    "plt.ylabel('Count')\n",
    "plt.title('XGBoost Residual')\n",
    "plt.axvline(color='r')\n",
    "plt.show()"
   ]
  },
  {
   "cell_type": "code",
   "execution_count": 23,
   "metadata": {},
   "outputs": [
    {
     "name": "stdout",
     "output_type": "stream",
     "text": [
      " Under Estimation: 27\n",
      " Over  Estimation: 35\n"
     ]
    }
   ],
   "source": [
    "# Count number of values greater than zero and less than zero\n",
    "value_counts = (residuals > 0).value_counts(sort=False)\n",
    "\n",
    "print(' Under Estimation: {0}'.format(value_counts[True]))\n",
    "print(' Over  Estimation: {0}'.format(value_counts[False]))"
   ]
  },
  {
   "cell_type": "code",
   "execution_count": 24,
   "metadata": {},
   "outputs": [
    {
     "data": {
      "image/png": "[encoded data removed]",
      "text/plain": [
       "<Figure size 432x288 with 1 Axes>"
      ]
     },
     "metadata": {
      "needs_background": "light"
     },
     "output_type": "display_data"
    }
   ],
   "source": [
    "# Plot for entire dataset\n",
    "plt.plot(df.x,df.y,label='Target')\n",
    "plt.plot(df.x,regressor.predict(df[['x']]) ,label='Predicted')\n",
    "plt.grid(True)\n",
    "plt.xlabel('Input Feature')\n",
    "plt.ylabel('Target')\n",
    "plt.legend()\n",
    "plt.title('XGBoost')\n",
    "plt.show()"
   ]
  },
  {
   "cell_type": "markdown",
   "metadata": {},
   "source": [
    "## Linear Regression Algorithm"
   ]
  },
  {
   "cell_type": "code",
   "execution_count": 25,
   "metadata": {},
   "outputs": [],
   "source": [
    "lin_regressor = LinearRegression()"
   ]
  },
  {
   "cell_type": "code",
   "execution_count": 26,
   "metadata": {},
   "outputs": [
    {
     "data": {
      "text/plain": [
       "LinearRegression()"
      ]
     },
     "execution_count": 26,
     "metadata": {},
     "output_type": "execute_result"
    }
   ],
   "source": [
    "lin_regressor.fit(X_train,y_train)"
   ]
  },
  {
   "cell_type": "markdown",
   "metadata": {},
   "source": [
    "Compare Weights assigned by Linear Regression.\n",
    "\n",
    "Original Function: 5*x**2 -23*x + 47 + some noise\n",
    "\n",
    "Linear Regression Function: -15.08 * x + 709.86 \n",
    "\n",
    "Linear Regression Coefficients and Intercepts are not close to actual"
   ]
  },
  {
   "cell_type": "code",
   "execution_count": 27,
   "metadata": {},
   "outputs": [
    {
     "data": {
      "text/plain": [
       "array([-15.07800272])"
      ]
     },
     "execution_count": 27,
     "metadata": {},
     "output_type": "execute_result"
    }
   ],
   "source": [
    "lin_regressor.coef_"
   ]
  },
  {
   "cell_type": "code",
   "execution_count": 28,
   "metadata": {},
   "outputs": [
    {
     "data": {
      "text/plain": [
       "709.8622001903116"
      ]
     },
     "execution_count": 28,
     "metadata": {},
     "output_type": "execute_result"
    }
   ],
   "source": [
    "lin_regressor.intercept_"
   ]
  },
  {
   "cell_type": "code",
   "execution_count": 29,
   "metadata": {},
   "outputs": [],
   "source": [
    "result = lin_regressor.predict(df_validation[['x']])"
   ]
  },
  {
   "cell_type": "code",
   "execution_count": 30,
   "metadata": {},
   "outputs": [
    {
     "data": {
      "image/png": "[encoded data removed]",
      "text/plain": [
       "<Figure size 432x288 with 1 Axes>"
      ]
     },
     "metadata": {
      "needs_background": "light"
     },
     "output_type": "display_data"
    }
   ],
   "source": [
    "plt.title('LinearRegression - Validation Dataset')\n",
    "plt.scatter(df_validation.x,df_validation.y,label='actual',marker='.')\n",
    "plt.scatter(df_validation.x,result,label='predicted',marker='.')\n",
    "plt.grid(True)\n",
    "plt.legend()\n",
    "plt.show()"
   ]
  },
  {
   "cell_type": "code",
   "execution_count": 31,
   "metadata": {},
   "outputs": [
    {
     "name": "stdout",
     "output_type": "stream",
     "text": [
      "Linear Regression Metrics\n",
      " Mean Squared Error: 488269.59\n",
      " Root Mean Square Error: 698.76\n"
     ]
    }
   ],
   "source": [
    "# RMSE Metrics\n",
    "print('Linear Regression Metrics')\n",
    "mse = mean_squared_error(df_validation.y,result)\n",
    "print(\" Mean Squared Error: {0:.2f}\".format(mse))\n",
    "print(\" Root Mean Square Error: {0:.2f}\".format(mse**.5))"
   ]
  },
  {
   "cell_type": "code",
   "execution_count": 32,
   "metadata": {},
   "outputs": [
    {
     "data": {
      "image/png": "[encoded data removed]",
      "text/plain": [
       "<Figure size 432x288 with 1 Axes>"
      ]
     },
     "metadata": {
      "needs_background": "light"
     },
     "output_type": "display_data"
    }
   ],
   "source": [
    "# Residual\n",
    "# Over prediction and Under Prediction needs to be balanced\n",
    "# Training Data Residuals\n",
    "residuals = df_validation.y - result\n",
    "plt.hist(residuals)\n",
    "plt.grid(True)\n",
    "plt.xlabel('Actual - Predicted')\n",
    "plt.ylabel('Count')\n",
    "plt.title('Linear Regression Residual')\n",
    "plt.axvline(color='r')\n",
    "plt.show()"
   ]
  },
  {
   "cell_type": "code",
   "execution_count": 33,
   "metadata": {},
   "outputs": [
    {
     "name": "stdout",
     "output_type": "stream",
     "text": [
      " Under Estimation: 25\n",
      " Over  Estimation: 37\n"
     ]
    }
   ],
   "source": [
    "# Count number of values greater than zero and less than zero\n",
    "value_counts = (residuals > 0).value_counts(sort=False)\n",
    "\n",
    "print(' Under Estimation: {0}'.format(value_counts[True]))\n",
    "print(' Over  Estimation: {0}'.format(value_counts[False]))"
   ]
  },
  {
   "cell_type": "code",
   "execution_count": 34,
   "metadata": {},
   "outputs": [
    {
     "data": {
      "image/png": "[encoded data removed]",
      "text/plain": [
       "<Figure size 432x288 with 1 Axes>"
      ]
     },
     "metadata": {
      "needs_background": "light"
     },
     "output_type": "display_data"
    }
   ],
   "source": [
    "# Plot for entire dataset\n",
    "plt.plot(df.x,df.y,label='Target')\n",
    "plt.plot(df.x,lin_regressor.predict(df[['x']]) ,label='Predicted')\n",
    "plt.grid(True)\n",
    "plt.xlabel('Input Feature')\n",
    "plt.ylabel('Target')\n",
    "plt.legend()\n",
    "plt.title('LinearRegression')\n",
    "plt.show()"
   ]
  },
  {
   "cell_type": "markdown",
   "metadata": {},
   "source": [
    "Linear Regression is showing clear symptoms of under-fitting\n",
    "\n",
    "Input Features are not sufficient to capture complex relationship"
   ]
  },
  {
   "cell_type": "markdown",
   "metadata": {},
   "source": [
    "<h2>Your Turn</h2>\n",
    "You can correct this under-fitting issue by adding relavant features.\n",
    "\n",
    "1. What feature will you add and why?\n",
    "2. Complete the code and Test\n",
    "3. What performance do you see now?"
   ]
  },
  {
   "cell_type": "code",
   "execution_count": 76,
   "metadata": {},
   "outputs": [
    {
     "data": {
      "text/plain": [
       "(143, 2)"
      ]
     },
     "execution_count": 76,
     "metadata": {},
     "output_type": "execute_result"
    }
   ],
   "source": [
    "# Specify the column names as the file does not have column header\n",
    "df_train = pd.read_csv(train_file,names=['y','x'])\n",
    "df_validation = pd.read_csv(validation_file,names=['y','x'])\n",
    "df = pd.read_csv('quadratic_all.csv')\n",
    "df_train.shape"
   ]
  },
  {
   "cell_type": "markdown",
   "metadata": {},
   "source": [
    "# Add new features "
   ]
  },
  {
   "cell_type": "code",
   "execution_count": 77,
   "metadata": {},
   "outputs": [],
   "source": [
    "df_train['x2'] = df_train['x']**2\n",
    "\n",
    "df_validation['x2'] = df_validation['x']**2\n",
    "\n",
    "df['x2'] = df['x']**2"
   ]
  },
  {
   "cell_type": "code",
   "execution_count": 78,
   "metadata": {},
   "outputs": [],
   "source": [
    "X_train = df_train.iloc[:,1:] # Features: 1st column onwards \n",
    "y_train = df_train.iloc[:,0].ravel() # Target: 0th column\n",
    "\n",
    "X_validation = df_validation.iloc[:,1:]\n",
    "y_validation = df_validation.iloc[:,0].ravel()"
   ]
  },
  {
   "cell_type": "code",
   "execution_count": 79,
   "metadata": {},
   "outputs": [
    {
     "data": {
      "text/plain": [
       "((143, 2), (143,))"
      ]
     },
     "execution_count": 79,
     "metadata": {},
     "output_type": "execute_result"
    }
   ],
   "source": [
    "X_train.shape, y_train.shape"
   ]
  },
  {
   "cell_type": "code",
   "execution_count": 80,
   "metadata": {},
   "outputs": [
    {
     "data": {
      "text/plain": [
       "LinearRegression()"
      ]
     },
     "execution_count": 80,
     "metadata": {},
     "output_type": "execute_result"
    }
   ],
   "source": [
    "lin_regressor.fit(X_train,y_train)"
   ]
  },
  {
   "cell_type": "markdown",
   "metadata": {},
   "source": [
    "Original Function: -23*x + 5*x**2 + 47 + some noise (rewritten with x term first)"
   ]
  },
  {
   "cell_type": "code",
   "execution_count": 81,
   "metadata": {},
   "outputs": [
    {
     "data": {
      "text/plain": [
       "array([-22.98286274,   4.98161803])"
      ]
     },
     "execution_count": 81,
     "metadata": {},
     "output_type": "execute_result"
    }
   ],
   "source": [
    "lin_regressor.coef_"
   ]
  },
  {
   "cell_type": "code",
   "execution_count": 82,
   "metadata": {},
   "outputs": [
    {
     "data": {
      "text/plain": [
       "5.86810755251679"
      ]
     },
     "execution_count": 82,
     "metadata": {},
     "output_type": "execute_result"
    }
   ],
   "source": [
    "lin_regressor.intercept_"
   ]
  },
  {
   "cell_type": "code",
   "execution_count": 83,
   "metadata": {},
   "outputs": [],
   "source": [
    "result = lin_regressor.predict(X_validation)"
   ]
  },
  {
   "cell_type": "code",
   "execution_count": 84,
   "metadata": {},
   "outputs": [
    {
     "data": {
      "image/png": "[encoded data removed]",
      "text/plain": [
       "<Figure size 432x288 with 1 Axes>"
      ]
     },
     "metadata": {
      "needs_background": "light"
     },
     "output_type": "display_data"
    }
   ],
   "source": [
    "plt.title('LinearRegression - Validation Dataset')\n",
    "plt.scatter(df_validation.x,df_validation.y,label='actual',marker='.')\n",
    "plt.scatter(df_validation.x,result,label='predicted',marker='.')\n",
    "plt.grid(True)\n",
    "plt.legend()\n",
    "plt.show()"
   ]
  },
  {
   "cell_type": "code",
   "execution_count": 85,
   "metadata": {},
   "outputs": [
    {
     "data": {
      "text/html": [
       "<div>\n",
       "<style scoped>\n",
       "    .dataframe tbody tr th:only-of-type {\n",
       "        vertical-align: middle;\n",
       "    }\n",
       "\n",
       "    .dataframe tbody tr th {\n",
       "        vertical-align: top;\n",
       "    }\n",
       "\n",
       "    .dataframe thead th {\n",
       "        text-align: right;\n",
       "    }\n",
       "</style>\n",
       "<table border=\"1\" class=\"dataframe\">\n",
       "  <thead>\n",
       "    <tr style=\"text-align: right;\">\n",
       "      <th></th>\n",
       "      <th>x</th>\n",
       "      <th>y</th>\n",
       "      <th>x2</th>\n",
       "    </tr>\n",
       "  </thead>\n",
       "  <tbody>\n",
       "    <tr>\n",
       "      <th>0</th>\n",
       "      <td>-20.0</td>\n",
       "      <td>2473.236825</td>\n",
       "      <td>400.00</td>\n",
       "    </tr>\n",
       "    <tr>\n",
       "      <th>1</th>\n",
       "      <td>-19.8</td>\n",
       "      <td>2405.673895</td>\n",
       "      <td>392.04</td>\n",
       "    </tr>\n",
       "    <tr>\n",
       "      <th>2</th>\n",
       "      <td>-19.6</td>\n",
       "      <td>2444.523136</td>\n",
       "      <td>384.16</td>\n",
       "    </tr>\n",
       "    <tr>\n",
       "      <th>3</th>\n",
       "      <td>-19.4</td>\n",
       "      <td>2320.437236</td>\n",
       "      <td>376.36</td>\n",
       "    </tr>\n",
       "    <tr>\n",
       "      <th>4</th>\n",
       "      <td>-19.2</td>\n",
       "      <td>2288.088295</td>\n",
       "      <td>368.64</td>\n",
       "    </tr>\n",
       "  </tbody>\n",
       "</table>\n",
       "</div>"
      ],
      "text/plain": [
       "      x            y      x2\n",
       "0 -20.0  2473.236825  400.00\n",
       "1 -19.8  2405.673895  392.04\n",
       "2 -19.6  2444.523136  384.16\n",
       "3 -19.4  2320.437236  376.36\n",
       "4 -19.2  2288.088295  368.64"
      ]
     },
     "execution_count": 85,
     "metadata": {},
     "output_type": "execute_result"
    }
   ],
   "source": [
    "df.head()"
   ]
  },
  {
   "cell_type": "code",
   "execution_count": 86,
   "metadata": {},
   "outputs": [
    {
     "data": {
      "image/png": "[encoded data removed]",
      "text/plain": [
       "<Figure size 432x288 with 1 Axes>"
      ]
     },
     "metadata": {
      "needs_background": "light"
     },
     "output_type": "display_data"
    }
   ],
   "source": [
    "# Plot for entire dataset\n",
    "plt.plot(df.x,df.y,label='Target')\n",
    "plt.plot(df.x,lin_regressor.predict(df[['x','x2']]) ,label='Predicted')\n",
    "plt.grid(True)\n",
    "plt.xlabel('Input Feature')\n",
    "plt.ylabel('Target')\n",
    "plt.legend()\n",
    "plt.title('LinearRegression')\n",
    "plt.show()"
   ]
  },
  {
   "cell_type": "markdown",
   "metadata": {},
   "source": [
    "## Solution for under-fitting\n",
    "\n",
    "add a new X**2 term to the dataframe\n",
    "\n",
    "syntax:\n",
    "\n",
    "df_train['x2'] = df_train['x']**2\n",
    "\n",
    "df_validation['x2'] = df_validation['x']**2\n",
    "\n",
    "df['x2'] = df['x']**2"
   ]
  },
  {
   "cell_type": "code",
   "execution_count": 87,
   "metadata": {},
   "outputs": [
    {
     "name": "stdout",
     "output_type": "stream",
     "text": [
      "Linear Regression Metrics\n",
      " Mean Squared Error: 927.22\n",
      " Root Mean Square Error: 30.45\n",
      "***You should see an RMSE score of 30.45 or less\n"
     ]
    }
   ],
   "source": [
    "# RMSE Metrics\n",
    "print('Linear Regression Metrics')\n",
    "mse = mean_squared_error(df_validation.y,result)\n",
    "print(\" Mean Squared Error: {0:.2f}\".format(mse))\n",
    "print(\" Root Mean Square Error: {0:.2f}\".format(mse**.5))\n",
    "\n",
    "print(\"***You should see an RMSE score of 30.45 or less\")"
   ]
  },
  {
   "cell_type": "markdown",
   "metadata": {},
   "source": [
    "### Tree Based Algorithms have a lower bound and upper bound for predicted values"
   ]
  },
  {
   "cell_type": "code",
   "execution_count": 88,
   "metadata": {},
   "outputs": [],
   "source": [
    "# True Function\n",
    "def quad_func (x):\n",
    "    return 5*x**2 -23*x + 47"
   ]
  },
  {
   "cell_type": "code",
   "execution_count": 89,
   "metadata": {},
   "outputs": [],
   "source": [
    "# X is outside range of training samples\n",
    "# New Feature: Adding X^2 term\n",
    "\n",
    "X = np.array([-100,-25,25,1000,5000])\n",
    "y = quad_func(X)\n",
    "df_tmp = pd.DataFrame({'x':X,'y':y,'x2':X**2})\n",
    "df_tmp['xgboost']=regressor.predict(df_tmp[['x']])\n",
    "df_tmp['linear']=lin_regressor.predict(df_tmp[['x','x2']])"
   ]
  },
  {
   "cell_type": "code",
   "execution_count": 90,
   "metadata": {},
   "outputs": [
    {
     "data": {
      "text/html": [
       "<div>\n",
       "<style scoped>\n",
       "    .dataframe tbody tr th:only-of-type {\n",
       "        vertical-align: middle;\n",
       "    }\n",
       "\n",
       "    .dataframe tbody tr th {\n",
       "        vertical-align: top;\n",
       "    }\n",
       "\n",
       "    .dataframe thead th {\n",
       "        text-align: right;\n",
       "    }\n",
       "</style>\n",
       "<table border=\"1\" class=\"dataframe\">\n",
       "  <thead>\n",
       "    <tr style=\"text-align: right;\">\n",
       "      <th></th>\n",
       "      <th>x</th>\n",
       "      <th>y</th>\n",
       "      <th>x2</th>\n",
       "      <th>xgboost</th>\n",
       "      <th>linear</th>\n",
       "    </tr>\n",
       "  </thead>\n",
       "  <tbody>\n",
       "    <tr>\n",
       "      <th>0</th>\n",
       "      <td>-100</td>\n",
       "      <td>52347</td>\n",
       "      <td>10000</td>\n",
       "      <td>2404.638428</td>\n",
       "      <td>5.212033e+04</td>\n",
       "    </tr>\n",
       "    <tr>\n",
       "      <th>1</th>\n",
       "      <td>-25</td>\n",
       "      <td>3747</td>\n",
       "      <td>625</td>\n",
       "      <td>2404.638428</td>\n",
       "      <td>3.693951e+03</td>\n",
       "    </tr>\n",
       "    <tr>\n",
       "      <th>2</th>\n",
       "      <td>25</td>\n",
       "      <td>2597</td>\n",
       "      <td>625</td>\n",
       "      <td>1689.587646</td>\n",
       "      <td>2.544808e+03</td>\n",
       "    </tr>\n",
       "    <tr>\n",
       "      <th>3</th>\n",
       "      <td>1000</td>\n",
       "      <td>4977047</td>\n",
       "      <td>1000000</td>\n",
       "      <td>1689.587646</td>\n",
       "      <td>4.958641e+06</td>\n",
       "    </tr>\n",
       "    <tr>\n",
       "      <th>4</th>\n",
       "      <td>5000</td>\n",
       "      <td>124885047</td>\n",
       "      <td>25000000</td>\n",
       "      <td>1689.587646</td>\n",
       "      <td>1.244255e+08</td>\n",
       "    </tr>\n",
       "  </tbody>\n",
       "</table>\n",
       "</div>"
      ],
      "text/plain": [
       "      x          y        x2      xgboost        linear\n",
       "0  -100      52347     10000  2404.638428  5.212033e+04\n",
       "1   -25       3747       625  2404.638428  3.693951e+03\n",
       "2    25       2597       625  1689.587646  2.544808e+03\n",
       "3  1000    4977047   1000000  1689.587646  4.958641e+06\n",
       "4  5000  124885047  25000000  1689.587646  1.244255e+08"
      ]
     },
     "execution_count": 90,
     "metadata": {},
     "output_type": "execute_result"
    }
   ],
   "source": [
    "df_tmp"
   ]
  },
  {
   "cell_type": "code",
   "execution_count": 91,
   "metadata": {},
   "outputs": [
    {
     "data": {
      "image/png": "[encoded data removed]",
      "text/plain": [
       "<Figure size 432x288 with 1 Axes>"
      ]
     },
     "metadata": {
      "needs_background": "light"
     },
     "output_type": "display_data"
    }
   ],
   "source": [
    "plt.scatter(df_tmp.x,df_tmp.y,label='Actual',color='r')\n",
    "plt.plot(df_tmp.x,df_tmp.linear,label='LinearRegression')\n",
    "plt.plot(df_tmp.x,df_tmp.xgboost,label='XGBoost')\n",
    "plt.legend()\n",
    "plt.xlabel('X')\n",
    "plt.ylabel('y')\n",
    "plt.title('Input Outside Range')\n",
    "plt.show()"
   ]
  },
  {
   "cell_type": "code",
   "execution_count": 92,
   "metadata": {},
   "outputs": [],
   "source": [
    "# X is inside range of training samples\n",
    "X = np.array([-15,-12,-5,0,1,3,5,7,9,11,15,18])\n",
    "y = quad_func(X)\n",
    "df_tmp = pd.DataFrame({'x':X,'y':y,'x2':X**2})\n",
    "df_tmp['xgboost']=regressor.predict(df_tmp[['x']])\n",
    "df_tmp['linear']=lin_regressor.predict(df_tmp[['x','x2']])"
   ]
  },
  {
   "cell_type": "code",
   "execution_count": 93,
   "metadata": {},
   "outputs": [
    {
     "data": {
      "text/html": [
       "<div>\n",
       "<style scoped>\n",
       "    .dataframe tbody tr th:only-of-type {\n",
       "        vertical-align: middle;\n",
       "    }\n",
       "\n",
       "    .dataframe tbody tr th {\n",
       "        vertical-align: top;\n",
       "    }\n",
       "\n",
       "    .dataframe thead th {\n",
       "        text-align: right;\n",
       "    }\n",
       "</style>\n",
       "<table border=\"1\" class=\"dataframe\">\n",
       "  <thead>\n",
       "    <tr style=\"text-align: right;\">\n",
       "      <th></th>\n",
       "      <th>x</th>\n",
       "      <th>y</th>\n",
       "      <th>x2</th>\n",
       "      <th>xgboost</th>\n",
       "      <th>linear</th>\n",
       "    </tr>\n",
       "  </thead>\n",
       "  <tbody>\n",
       "    <tr>\n",
       "      <th>0</th>\n",
       "      <td>-15</td>\n",
       "      <td>1517</td>\n",
       "      <td>225</td>\n",
       "      <td>1491.868652</td>\n",
       "      <td>1471.475106</td>\n",
       "    </tr>\n",
       "    <tr>\n",
       "      <th>1</th>\n",
       "      <td>-12</td>\n",
       "      <td>1043</td>\n",
       "      <td>144</td>\n",
       "      <td>983.951050</td>\n",
       "      <td>999.015457</td>\n",
       "    </tr>\n",
       "    <tr>\n",
       "      <th>2</th>\n",
       "      <td>-5</td>\n",
       "      <td>287</td>\n",
       "      <td>25</td>\n",
       "      <td>200.439957</td>\n",
       "      <td>245.322872</td>\n",
       "    </tr>\n",
       "    <tr>\n",
       "      <th>3</th>\n",
       "      <td>0</td>\n",
       "      <td>47</td>\n",
       "      <td>0</td>\n",
       "      <td>1.164244</td>\n",
       "      <td>5.868108</td>\n",
       "    </tr>\n",
       "    <tr>\n",
       "      <th>4</th>\n",
       "      <td>1</td>\n",
       "      <td>29</td>\n",
       "      <td>1</td>\n",
       "      <td>0.122412</td>\n",
       "      <td>-12.133137</td>\n",
       "    </tr>\n",
       "    <tr>\n",
       "      <th>5</th>\n",
       "      <td>3</td>\n",
       "      <td>23</td>\n",
       "      <td>9</td>\n",
       "      <td>-59.463448</td>\n",
       "      <td>-18.245918</td>\n",
       "    </tr>\n",
       "    <tr>\n",
       "      <th>6</th>\n",
       "      <td>5</td>\n",
       "      <td>57</td>\n",
       "      <td>25</td>\n",
       "      <td>0.623749</td>\n",
       "      <td>15.494245</td>\n",
       "    </tr>\n",
       "    <tr>\n",
       "      <th>7</th>\n",
       "      <td>7</td>\n",
       "      <td>131</td>\n",
       "      <td>49</td>\n",
       "      <td>151.693665</td>\n",
       "      <td>89.087352</td>\n",
       "    </tr>\n",
       "    <tr>\n",
       "      <th>8</th>\n",
       "      <td>9</td>\n",
       "      <td>245</td>\n",
       "      <td>81</td>\n",
       "      <td>221.317764</td>\n",
       "      <td>202.533404</td>\n",
       "    </tr>\n",
       "    <tr>\n",
       "      <th>9</th>\n",
       "      <td>11</td>\n",
       "      <td>399</td>\n",
       "      <td>121</td>\n",
       "      <td>432.898956</td>\n",
       "      <td>355.832399</td>\n",
       "    </tr>\n",
       "    <tr>\n",
       "      <th>10</th>\n",
       "      <td>15</td>\n",
       "      <td>827</td>\n",
       "      <td>225</td>\n",
       "      <td>801.118469</td>\n",
       "      <td>781.989224</td>\n",
       "    </tr>\n",
       "    <tr>\n",
       "      <th>11</th>\n",
       "      <td>18</td>\n",
       "      <td>1253</td>\n",
       "      <td>324</td>\n",
       "      <td>1269.712769</td>\n",
       "      <td>1206.220821</td>\n",
       "    </tr>\n",
       "  </tbody>\n",
       "</table>\n",
       "</div>"
      ],
      "text/plain": [
       "     x     y   x2      xgboost       linear\n",
       "0  -15  1517  225  1491.868652  1471.475106\n",
       "1  -12  1043  144   983.951050   999.015457\n",
       "2   -5   287   25   200.439957   245.322872\n",
       "3    0    47    0     1.164244     5.868108\n",
       "4    1    29    1     0.122412   -12.133137\n",
       "5    3    23    9   -59.463448   -18.245918\n",
       "6    5    57   25     0.623749    15.494245\n",
       "7    7   131   49   151.693665    89.087352\n",
       "8    9   245   81   221.317764   202.533404\n",
       "9   11   399  121   432.898956   355.832399\n",
       "10  15   827  225   801.118469   781.989224\n",
       "11  18  1253  324  1269.712769  1206.220821"
      ]
     },
     "execution_count": 93,
     "metadata": {},
     "output_type": "execute_result"
    }
   ],
   "source": [
    "df_tmp"
   ]
  },
  {
   "cell_type": "code",
   "execution_count": 94,
   "metadata": {},
   "outputs": [
    {
     "data": {
      "image/png": "[encoded data removed]",
      "text/plain": [
       "<Figure size 432x288 with 1 Axes>"
      ]
     },
     "metadata": {
      "needs_background": "light"
     },
     "output_type": "display_data"
    }
   ],
   "source": [
    "# XGBoost Predictions have an upper bound and lower bound\n",
    "# Linear Regression Extrapolates\n",
    "plt.scatter(df_tmp.x,df_tmp.y,label='Actual',color='r')\n",
    "plt.plot(df_tmp.x,df_tmp.linear,label='LinearRegression')\n",
    "plt.plot(df_tmp.x,df_tmp.xgboost,label='XGBoost')\n",
    "plt.legend()\n",
    "plt.xlabel('X')\n",
    "plt.ylabel('y')\n",
    "plt.title('Input within range')\n",
    "plt.show()"
   ]
  },
  {
   "cell_type": "markdown",
   "metadata": {},
   "source": [
    "<h2>Summary</h2>"
   ]
  },
  {
   "cell_type": "markdown",
   "metadata": {},
   "source": [
    "1. In this exercise, we compared performance of XGBoost model and Linear Regression on a quadratic dataset\n",
    "2. The relationship between input feature and target was non-linear.\n",
    "3. XGBoost handled it pretty well; whereas, linear regression was under-fitting\n",
    "4. To correct the issue, we had to add additional features for linear regression\n",
    "5. With this change, linear regression performed much better\n",
    "\n",
    "XGBoost can detect patterns involving non-linear relationship; whereas, algorithms like linear regression may need complex feature engineering"
   ]
  },
  {
   "cell_type": "code",
   "execution_count": null,
   "metadata": {},
   "outputs": [],
   "source": []
  }
 ],
 "metadata": {
  "kernelspec": {
   "display_name": "conda_python3",
   "language": "python",
   "name": "conda_python3"
  },
  "language_info": {
   "codemirror_mode": {
    "name": "ipython",
    "version": 3
   },
   "file_extension": ".py",
   "mimetype": "text/x-python",
   "name": "python",
   "nbconvert_exporter": "python",
   "pygments_lexer": "ipython3",
   "version": "3.6.13"
  }
 },
 "nbformat": 4,
 "nbformat_minor": 2
}
